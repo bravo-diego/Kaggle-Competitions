{
  "cells": [
    {
      "cell_type": "markdown",
      "id": "bae23145-8c20-4234-8308-5a5790139d54",
      "metadata": {
        "id": "bae23145-8c20-4234-8308-5a5790139d54"
      },
      "source": [
        "# eCommerce Behavior Data from Multi-Category Store"
      ]
    },
    {
      "cell_type": "markdown",
      "id": "bde04fab-ffcb-4bd1-9199-094146a8562c",
      "metadata": {
        "id": "bde04fab-ffcb-4bd1-9199-094146a8562c"
      },
      "source": [
        "### Exploración y Preprocesamiento de Datos"
      ]
    },
    {
      "cell_type": "code",
      "execution_count": null,
      "id": "f15abd1a-c3df-4f23-ae7a-4dc24eb2bbcd",
      "metadata": {
        "id": "f15abd1a-c3df-4f23-ae7a-4dc24eb2bbcd"
      },
      "outputs": [],
      "source": [
        "import warnings\n",
        "import numpy as np\n",
        "import pandas as pd\n",
        "import matplotlib.pyplot as plt # loading libraries"
      ]
    },
    {
      "cell_type": "code",
      "execution_count": null,
      "id": "4a439830-b144-406d-b5f1-3472876a0b1d",
      "metadata": {
        "id": "4a439830-b144-406d-b5f1-3472876a0b1d"
      },
      "outputs": [],
      "source": [
        "warnings.filterwarnings('ignore') # ignore warnings"
      ]
    },
    {
      "cell_type": "code",
      "execution_count": null,
      "id": "961cb9d1-e378-451a-ac44-37cd12600da3",
      "metadata": {
        "id": "961cb9d1-e378-451a-ac44-37cd12600da3"
      },
      "outputs": [],
      "source": [
        "path = r'C:\\Users\\Aspph\\Notebooks\\2019-Nov\\2019-Nov.csv' # file path\n",
        "df = pd.read_csv(path) # read csv"
      ]
    },
    {
      "cell_type": "code",
      "execution_count": null,
      "id": "fb8108d2-8b9f-44b6-92d5-48266bce0826",
      "metadata": {
        "id": "fb8108d2-8b9f-44b6-92d5-48266bce0826",
        "outputId": "b5cb467d-e6cf-4312-f1f4-9b3251ed33a4"
      },
      "outputs": [
        {
          "name": "stdout",
          "output_type": "stream",
          "text": [
            "<class 'pandas.core.frame.DataFrame'>\n",
            "RangeIndex: 67501979 entries, 0 to 67501978\n",
            "Data columns (total 9 columns):\n",
            " #   Column         Dtype  \n",
            "---  ------         -----  \n",
            " 0   event_time     object \n",
            " 1   event_type     object \n",
            " 2   product_id     int64  \n",
            " 3   category_id    int64  \n",
            " 4   category_code  object \n",
            " 5   brand          object \n",
            " 6   price          float64\n",
            " 7   user_id        int64  \n",
            " 8   user_session   object \n",
            "dtypes: float64(1), int64(3), object(5)\n",
            "memory usage: 4.5+ GB\n"
          ]
        }
      ],
      "source": [
        "df.info() # print df schema"
      ]
    },
    {
      "cell_type": "code",
      "execution_count": null,
      "id": "a9a2cb22-aa37-4ad5-94da-e635a433bc41",
      "metadata": {
        "id": "a9a2cb22-aa37-4ad5-94da-e635a433bc41",
        "outputId": "ce7098d6-1a57-4513-a992-5d0e051ab80d"
      },
      "outputs": [
        {
          "data": {
            "text/html": [
              "<div>\n",
              "<style scoped>\n",
              "    .dataframe tbody tr th:only-of-type {\n",
              "        vertical-align: middle;\n",
              "    }\n",
              "\n",
              "    .dataframe tbody tr th {\n",
              "        vertical-align: top;\n",
              "    }\n",
              "\n",
              "    .dataframe thead th {\n",
              "        text-align: right;\n",
              "    }\n",
              "</style>\n",
              "<table border=\"1\" class=\"dataframe\">\n",
              "  <thead>\n",
              "    <tr style=\"text-align: right;\">\n",
              "      <th></th>\n",
              "      <th>event_time</th>\n",
              "      <th>event_type</th>\n",
              "      <th>product_id</th>\n",
              "      <th>category_id</th>\n",
              "      <th>category_code</th>\n",
              "      <th>brand</th>\n",
              "      <th>price</th>\n",
              "      <th>user_id</th>\n",
              "      <th>user_session</th>\n",
              "    </tr>\n",
              "  </thead>\n",
              "  <tbody>\n",
              "    <tr>\n",
              "      <th>0</th>\n",
              "      <td>2019-11-01 00:00:00 UTC</td>\n",
              "      <td>view</td>\n",
              "      <td>1003461</td>\n",
              "      <td>2053013555631882655</td>\n",
              "      <td>electronics.smartphone</td>\n",
              "      <td>xiaomi</td>\n",
              "      <td>489.07</td>\n",
              "      <td>520088904</td>\n",
              "      <td>4d3b30da-a5e4-49df-b1a8-ba5943f1dd33</td>\n",
              "    </tr>\n",
              "    <tr>\n",
              "      <th>1</th>\n",
              "      <td>2019-11-01 00:00:00 UTC</td>\n",
              "      <td>view</td>\n",
              "      <td>5000088</td>\n",
              "      <td>2053013566100866035</td>\n",
              "      <td>appliances.sewing_machine</td>\n",
              "      <td>janome</td>\n",
              "      <td>293.65</td>\n",
              "      <td>530496790</td>\n",
              "      <td>8e5f4f83-366c-4f70-860e-ca7417414283</td>\n",
              "    </tr>\n",
              "    <tr>\n",
              "      <th>2</th>\n",
              "      <td>2019-11-01 00:00:01 UTC</td>\n",
              "      <td>view</td>\n",
              "      <td>17302664</td>\n",
              "      <td>2053013553853497655</td>\n",
              "      <td>NaN</td>\n",
              "      <td>creed</td>\n",
              "      <td>28.31</td>\n",
              "      <td>561587266</td>\n",
              "      <td>755422e7-9040-477b-9bd2-6a6e8fd97387</td>\n",
              "    </tr>\n",
              "    <tr>\n",
              "      <th>3</th>\n",
              "      <td>2019-11-01 00:00:01 UTC</td>\n",
              "      <td>view</td>\n",
              "      <td>3601530</td>\n",
              "      <td>2053013563810775923</td>\n",
              "      <td>appliances.kitchen.washer</td>\n",
              "      <td>lg</td>\n",
              "      <td>712.87</td>\n",
              "      <td>518085591</td>\n",
              "      <td>3bfb58cd-7892-48cc-8020-2f17e6de6e7f</td>\n",
              "    </tr>\n",
              "    <tr>\n",
              "      <th>4</th>\n",
              "      <td>2019-11-01 00:00:01 UTC</td>\n",
              "      <td>view</td>\n",
              "      <td>1004775</td>\n",
              "      <td>2053013555631882655</td>\n",
              "      <td>electronics.smartphone</td>\n",
              "      <td>xiaomi</td>\n",
              "      <td>183.27</td>\n",
              "      <td>558856683</td>\n",
              "      <td>313628f1-68b8-460d-84f6-cec7a8796ef2</td>\n",
              "    </tr>\n",
              "  </tbody>\n",
              "</table>\n",
              "</div>"
            ],
            "text/plain": [
              "                event_time event_type  product_id          category_id  \\\n",
              "0  2019-11-01 00:00:00 UTC       view     1003461  2053013555631882655   \n",
              "1  2019-11-01 00:00:00 UTC       view     5000088  2053013566100866035   \n",
              "2  2019-11-01 00:00:01 UTC       view    17302664  2053013553853497655   \n",
              "3  2019-11-01 00:00:01 UTC       view     3601530  2053013563810775923   \n",
              "4  2019-11-01 00:00:01 UTC       view     1004775  2053013555631882655   \n",
              "\n",
              "               category_code   brand   price    user_id  \\\n",
              "0     electronics.smartphone  xiaomi  489.07  520088904   \n",
              "1  appliances.sewing_machine  janome  293.65  530496790   \n",
              "2                        NaN   creed   28.31  561587266   \n",
              "3  appliances.kitchen.washer      lg  712.87  518085591   \n",
              "4     electronics.smartphone  xiaomi  183.27  558856683   \n",
              "\n",
              "                           user_session  \n",
              "0  4d3b30da-a5e4-49df-b1a8-ba5943f1dd33  \n",
              "1  8e5f4f83-366c-4f70-860e-ca7417414283  \n",
              "2  755422e7-9040-477b-9bd2-6a6e8fd97387  \n",
              "3  3bfb58cd-7892-48cc-8020-2f17e6de6e7f  \n",
              "4  313628f1-68b8-460d-84f6-cec7a8796ef2  "
            ]
          },
          "execution_count": 5,
          "metadata": {},
          "output_type": "execute_result"
        }
      ],
      "source": [
        "df.head() # data preview"
      ]
    },
    {
      "cell_type": "code",
      "execution_count": null,
      "id": "fffb90ed-72d3-42bc-bdbf-a0fafc2f8a1e",
      "metadata": {
        "id": "fffb90ed-72d3-42bc-bdbf-a0fafc2f8a1e",
        "outputId": "ae330d28-521b-4a99-fb9a-9b6628017f46"
      },
      "outputs": [
        {
          "data": {
            "text/html": [
              "<div>\n",
              "<style scoped>\n",
              "    .dataframe tbody tr th:only-of-type {\n",
              "        vertical-align: middle;\n",
              "    }\n",
              "\n",
              "    .dataframe tbody tr th {\n",
              "        vertical-align: top;\n",
              "    }\n",
              "\n",
              "    .dataframe thead th {\n",
              "        text-align: right;\n",
              "    }\n",
              "</style>\n",
              "<table border=\"1\" class=\"dataframe\">\n",
              "  <thead>\n",
              "    <tr style=\"text-align: right;\">\n",
              "      <th></th>\n",
              "      <th>event_time</th>\n",
              "      <th>event_type</th>\n",
              "      <th>product_id</th>\n",
              "      <th>category_id</th>\n",
              "      <th>category_code</th>\n",
              "      <th>brand</th>\n",
              "      <th>price</th>\n",
              "      <th>user_id</th>\n",
              "      <th>user_session</th>\n",
              "    </tr>\n",
              "  </thead>\n",
              "  <tbody>\n",
              "    <tr>\n",
              "      <th>67501974</th>\n",
              "      <td>2019-11-30 23:59:58 UTC</td>\n",
              "      <td>view</td>\n",
              "      <td>15700137</td>\n",
              "      <td>2053013559733912211</td>\n",
              "      <td>NaN</td>\n",
              "      <td>NaN</td>\n",
              "      <td>277.74</td>\n",
              "      <td>532714000</td>\n",
              "      <td>02b4131c-0112-4231-aafa-ceaa08e77c1b</td>\n",
              "    </tr>\n",
              "    <tr>\n",
              "      <th>67501975</th>\n",
              "      <td>2019-11-30 23:59:58 UTC</td>\n",
              "      <td>view</td>\n",
              "      <td>28719425</td>\n",
              "      <td>2053013565639492569</td>\n",
              "      <td>apparel.shoes</td>\n",
              "      <td>baden</td>\n",
              "      <td>62.81</td>\n",
              "      <td>545223467</td>\n",
              "      <td>734c5eef-0742-4f8b-9d22-48f75b0bc359</td>\n",
              "    </tr>\n",
              "    <tr>\n",
              "      <th>67501976</th>\n",
              "      <td>2019-11-30 23:59:59 UTC</td>\n",
              "      <td>view</td>\n",
              "      <td>1004833</td>\n",
              "      <td>2053013555631882655</td>\n",
              "      <td>electronics.smartphone</td>\n",
              "      <td>samsung</td>\n",
              "      <td>167.03</td>\n",
              "      <td>557794415</td>\n",
              "      <td>6fecf566-ebb0-4e70-a243-cdc13ce044cb</td>\n",
              "    </tr>\n",
              "    <tr>\n",
              "      <th>67501977</th>\n",
              "      <td>2019-11-30 23:59:59 UTC</td>\n",
              "      <td>view</td>\n",
              "      <td>2701706</td>\n",
              "      <td>2053013563911439225</td>\n",
              "      <td>appliances.kitchen.refrigerators</td>\n",
              "      <td>samsung</td>\n",
              "      <td>566.27</td>\n",
              "      <td>531607492</td>\n",
              "      <td>368ddc8b-5db9-40fb-b7ff-b6582a1192c0</td>\n",
              "    </tr>\n",
              "    <tr>\n",
              "      <th>67501978</th>\n",
              "      <td>2019-11-30 23:59:59 UTC</td>\n",
              "      <td>view</td>\n",
              "      <td>1004233</td>\n",
              "      <td>2053013555631882655</td>\n",
              "      <td>electronics.smartphone</td>\n",
              "      <td>apple</td>\n",
              "      <td>1312.52</td>\n",
              "      <td>579969851</td>\n",
              "      <td>90aca71c-ed8a-4670-866a-761ebacb732d</td>\n",
              "    </tr>\n",
              "  </tbody>\n",
              "</table>\n",
              "</div>"
            ],
            "text/plain": [
              "                       event_time event_type  product_id          category_id  \\\n",
              "67501974  2019-11-30 23:59:58 UTC       view    15700137  2053013559733912211   \n",
              "67501975  2019-11-30 23:59:58 UTC       view    28719425  2053013565639492569   \n",
              "67501976  2019-11-30 23:59:59 UTC       view     1004833  2053013555631882655   \n",
              "67501977  2019-11-30 23:59:59 UTC       view     2701706  2053013563911439225   \n",
              "67501978  2019-11-30 23:59:59 UTC       view     1004233  2053013555631882655   \n",
              "\n",
              "                             category_code    brand    price    user_id  \\\n",
              "67501974                               NaN      NaN   277.74  532714000   \n",
              "67501975                     apparel.shoes    baden    62.81  545223467   \n",
              "67501976            electronics.smartphone  samsung   167.03  557794415   \n",
              "67501977  appliances.kitchen.refrigerators  samsung   566.27  531607492   \n",
              "67501978            electronics.smartphone    apple  1312.52  579969851   \n",
              "\n",
              "                                  user_session  \n",
              "67501974  02b4131c-0112-4231-aafa-ceaa08e77c1b  \n",
              "67501975  734c5eef-0742-4f8b-9d22-48f75b0bc359  \n",
              "67501976  6fecf566-ebb0-4e70-a243-cdc13ce044cb  \n",
              "67501977  368ddc8b-5db9-40fb-b7ff-b6582a1192c0  \n",
              "67501978  90aca71c-ed8a-4670-866a-761ebacb732d  "
            ]
          },
          "execution_count": 6,
          "metadata": {},
          "output_type": "execute_result"
        }
      ],
      "source": [
        "df.tail() # data preview"
      ]
    },
    {
      "cell_type": "code",
      "execution_count": null,
      "id": "b24c1612-2962-4c10-90da-2ce41fccfeff",
      "metadata": {
        "id": "b24c1612-2962-4c10-90da-2ce41fccfeff",
        "outputId": "89e5da91-d5ee-4972-9af9-d42160f06026"
      },
      "outputs": [
        {
          "data": {
            "text/plain": [
              "(67501979, 9)"
            ]
          },
          "execution_count": 7,
          "metadata": {},
          "output_type": "execute_result"
        }
      ],
      "source": [
        "df.shape # no. of observations; no. of columns"
      ]
    },
    {
      "cell_type": "code",
      "execution_count": null,
      "id": "5bebe4d6-2eeb-4b60-b756-0eed6aaff705",
      "metadata": {
        "id": "5bebe4d6-2eeb-4b60-b756-0eed6aaff705",
        "outputId": "960b5442-c959-4036-e486-701f2db565d0"
      },
      "outputs": [
        {
          "data": {
            "text/plain": [
              "Index(['event_time', 'event_type', 'product_id', 'category_id',\n",
              "       'category_code', 'brand', 'price', 'user_id', 'user_session'],\n",
              "      dtype='object')"
            ]
          },
          "execution_count": 8,
          "metadata": {},
          "output_type": "execute_result"
        }
      ],
      "source": [
        "df.keys() # column names"
      ]
    },
    {
      "cell_type": "code",
      "execution_count": null,
      "id": "54493a9b-004d-46b0-9cfd-0eb2c6d13a06",
      "metadata": {
        "id": "54493a9b-004d-46b0-9cfd-0eb2c6d13a06",
        "outputId": "9829be71-3c21-40af-f6b1-6dfb88b1ff7d"
      },
      "outputs": [
        {
          "data": {
            "text/plain": [
              "array(['view', 'cart', 'purchase'], dtype=object)"
            ]
          },
          "execution_count": 9,
          "metadata": {},
          "output_type": "execute_result"
        }
      ],
      "source": [
        "df['event_type'].unique() # values for event type col"
      ]
    },
    {
      "cell_type": "code",
      "execution_count": null,
      "id": "7a55c2dd-36a6-47bb-895c-37b808a6da07",
      "metadata": {
        "id": "7a55c2dd-36a6-47bb-895c-37b808a6da07",
        "outputId": "16739797-56e9-44a9-b9e2-a12f365a9d95"
      },
      "outputs": [
        {
          "data": {
            "text/plain": [
              "event_time              0\n",
              "event_type              0\n",
              "product_id              0\n",
              "category_id             0\n",
              "category_code    21898171\n",
              "brand             9224078\n",
              "price                   0\n",
              "user_id                 0\n",
              "user_session           10\n",
              "dtype: int64"
            ]
          },
          "execution_count": 10,
          "metadata": {},
          "output_type": "execute_result"
        }
      ],
      "source": [
        "df.isna().sum() # check for null values"
      ]
    },
    {
      "cell_type": "code",
      "execution_count": null,
      "id": "4cd4e4d6-6f2c-4465-9a0a-f502a7880907",
      "metadata": {
        "id": "4cd4e4d6-6f2c-4465-9a0a-f502a7880907",
        "outputId": "b178ef13-041d-45ff-ec54-9152a683648e"
      },
      "outputs": [
        {
          "data": {
            "text/plain": [
              "(42089564, 9)"
            ]
          },
          "execution_count": 11,
          "metadata": {},
          "output_type": "execute_result"
        }
      ],
      "source": [
        "updated_df = df.dropna() # drop rows w/null values\n",
        "updated_df.shape"
      ]
    },
    {
      "cell_type": "code",
      "execution_count": null,
      "id": "32a72bf5-c263-4793-b64c-d2fe44510542",
      "metadata": {
        "id": "32a72bf5-c263-4793-b64c-d2fe44510542",
        "outputId": "e44f1f9f-aa4f-487c-b78d-e87d91e5ddc8"
      },
      "outputs": [
        {
          "data": {
            "text/plain": [
              "event_time       0\n",
              "event_type       0\n",
              "product_id       0\n",
              "category_id      0\n",
              "category_code    0\n",
              "brand            0\n",
              "price            0\n",
              "user_id          0\n",
              "user_session     0\n",
              "dtype: int64"
            ]
          },
          "execution_count": 12,
          "metadata": {},
          "output_type": "execute_result"
        }
      ],
      "source": [
        "updated_df.isna().sum() # check for null values"
      ]
    },
    {
      "cell_type": "code",
      "execution_count": null,
      "id": "458dca58-d516-4eb5-a7de-196843789577",
      "metadata": {
        "id": "458dca58-d516-4eb5-a7de-196843789577"
      },
      "outputs": [],
      "source": [
        "updated_df['event_time'] = pd.to_datetime(updated_df['event_time']) # convert event time col to datetime"
      ]
    },
    {
      "cell_type": "code",
      "execution_count": null,
      "id": "501d8f74-984c-4504-bf32-c6d58c81a034",
      "metadata": {
        "id": "501d8f74-984c-4504-bf32-c6d58c81a034",
        "outputId": "851b2431-a863-4f10-9c46-4070f695c738"
      },
      "outputs": [
        {
          "name": "stdout",
          "output_type": "stream",
          "text": [
            "<class 'pandas.core.frame.DataFrame'>\n",
            "Index: 42089564 entries, 0 to 67501978\n",
            "Data columns (total 9 columns):\n",
            " #   Column         Dtype              \n",
            "---  ------         -----              \n",
            " 0   event_time     datetime64[ns, UTC]\n",
            " 1   event_type     object             \n",
            " 2   product_id     int64              \n",
            " 3   category_id    int64              \n",
            " 4   category_code  object             \n",
            " 5   brand          object             \n",
            " 6   price          float64            \n",
            " 7   user_id        int64              \n",
            " 8   user_session   object             \n",
            "dtypes: datetime64[ns, UTC](1), float64(1), int64(3), object(4)\n",
            "memory usage: 3.1+ GB\n"
          ]
        }
      ],
      "source": [
        "updated_df.info() # print df schema"
      ]
    },
    {
      "cell_type": "code",
      "execution_count": null,
      "id": "35374983-4710-46d3-96df-ed903e229163",
      "metadata": {
        "id": "35374983-4710-46d3-96df-ed903e229163"
      },
      "outputs": [],
      "source": [
        "updated_df.loc[:, 'purchase'] = [1 if event == 'purchase' else 0 for event in updated_df['event_type']] # binary column to track purchases"
      ]
    },
    {
      "cell_type": "code",
      "execution_count": null,
      "id": "3f262121-ec7b-4038-8ec4-0b8a4a614daa",
      "metadata": {
        "id": "3f262121-ec7b-4038-8ec4-0b8a4a614daa",
        "outputId": "734e4b80-eae9-40bd-f661-124865c545ef"
      },
      "outputs": [
        {
          "data": {
            "text/html": [
              "<div>\n",
              "<style scoped>\n",
              "    .dataframe tbody tr th:only-of-type {\n",
              "        vertical-align: middle;\n",
              "    }\n",
              "\n",
              "    .dataframe tbody tr th {\n",
              "        vertical-align: top;\n",
              "    }\n",
              "\n",
              "    .dataframe thead th {\n",
              "        text-align: right;\n",
              "    }\n",
              "</style>\n",
              "<table border=\"1\" class=\"dataframe\">\n",
              "  <thead>\n",
              "    <tr style=\"text-align: right;\">\n",
              "      <th></th>\n",
              "      <th>event_time</th>\n",
              "      <th>event_type</th>\n",
              "      <th>product_id</th>\n",
              "      <th>category_id</th>\n",
              "      <th>category_code</th>\n",
              "      <th>brand</th>\n",
              "      <th>price</th>\n",
              "      <th>user_id</th>\n",
              "      <th>user_session</th>\n",
              "      <th>purchase</th>\n",
              "    </tr>\n",
              "  </thead>\n",
              "  <tbody>\n",
              "    <tr>\n",
              "      <th>0</th>\n",
              "      <td>2019-11-01 00:00:00+00:00</td>\n",
              "      <td>view</td>\n",
              "      <td>1003461</td>\n",
              "      <td>2053013555631882655</td>\n",
              "      <td>electronics.smartphone</td>\n",
              "      <td>xiaomi</td>\n",
              "      <td>489.07</td>\n",
              "      <td>520088904</td>\n",
              "      <td>4d3b30da-a5e4-49df-b1a8-ba5943f1dd33</td>\n",
              "      <td>0</td>\n",
              "    </tr>\n",
              "    <tr>\n",
              "      <th>1</th>\n",
              "      <td>2019-11-01 00:00:00+00:00</td>\n",
              "      <td>view</td>\n",
              "      <td>5000088</td>\n",
              "      <td>2053013566100866035</td>\n",
              "      <td>appliances.sewing_machine</td>\n",
              "      <td>janome</td>\n",
              "      <td>293.65</td>\n",
              "      <td>530496790</td>\n",
              "      <td>8e5f4f83-366c-4f70-860e-ca7417414283</td>\n",
              "      <td>0</td>\n",
              "    </tr>\n",
              "    <tr>\n",
              "      <th>3</th>\n",
              "      <td>2019-11-01 00:00:01+00:00</td>\n",
              "      <td>view</td>\n",
              "      <td>3601530</td>\n",
              "      <td>2053013563810775923</td>\n",
              "      <td>appliances.kitchen.washer</td>\n",
              "      <td>lg</td>\n",
              "      <td>712.87</td>\n",
              "      <td>518085591</td>\n",
              "      <td>3bfb58cd-7892-48cc-8020-2f17e6de6e7f</td>\n",
              "      <td>0</td>\n",
              "    </tr>\n",
              "    <tr>\n",
              "      <th>4</th>\n",
              "      <td>2019-11-01 00:00:01+00:00</td>\n",
              "      <td>view</td>\n",
              "      <td>1004775</td>\n",
              "      <td>2053013555631882655</td>\n",
              "      <td>electronics.smartphone</td>\n",
              "      <td>xiaomi</td>\n",
              "      <td>183.27</td>\n",
              "      <td>558856683</td>\n",
              "      <td>313628f1-68b8-460d-84f6-cec7a8796ef2</td>\n",
              "      <td>0</td>\n",
              "    </tr>\n",
              "    <tr>\n",
              "      <th>5</th>\n",
              "      <td>2019-11-01 00:00:01+00:00</td>\n",
              "      <td>view</td>\n",
              "      <td>1306894</td>\n",
              "      <td>2053013558920217191</td>\n",
              "      <td>computers.notebook</td>\n",
              "      <td>hp</td>\n",
              "      <td>360.09</td>\n",
              "      <td>520772685</td>\n",
              "      <td>816a59f3-f5ae-4ccd-9b23-82aa8c23d33c</td>\n",
              "      <td>0</td>\n",
              "    </tr>\n",
              "  </tbody>\n",
              "</table>\n",
              "</div>"
            ],
            "text/plain": [
              "                 event_time event_type  product_id          category_id  \\\n",
              "0 2019-11-01 00:00:00+00:00       view     1003461  2053013555631882655   \n",
              "1 2019-11-01 00:00:00+00:00       view     5000088  2053013566100866035   \n",
              "3 2019-11-01 00:00:01+00:00       view     3601530  2053013563810775923   \n",
              "4 2019-11-01 00:00:01+00:00       view     1004775  2053013555631882655   \n",
              "5 2019-11-01 00:00:01+00:00       view     1306894  2053013558920217191   \n",
              "\n",
              "               category_code   brand   price    user_id  \\\n",
              "0     electronics.smartphone  xiaomi  489.07  520088904   \n",
              "1  appliances.sewing_machine  janome  293.65  530496790   \n",
              "3  appliances.kitchen.washer      lg  712.87  518085591   \n",
              "4     electronics.smartphone  xiaomi  183.27  558856683   \n",
              "5         computers.notebook      hp  360.09  520772685   \n",
              "\n",
              "                           user_session  purchase  \n",
              "0  4d3b30da-a5e4-49df-b1a8-ba5943f1dd33         0  \n",
              "1  8e5f4f83-366c-4f70-860e-ca7417414283         0  \n",
              "3  3bfb58cd-7892-48cc-8020-2f17e6de6e7f         0  \n",
              "4  313628f1-68b8-460d-84f6-cec7a8796ef2         0  \n",
              "5  816a59f3-f5ae-4ccd-9b23-82aa8c23d33c         0  "
            ]
          },
          "execution_count": 16,
          "metadata": {},
          "output_type": "execute_result"
        }
      ],
      "source": [
        "updated_df.head() # data preview"
      ]
    },
    {
      "cell_type": "code",
      "execution_count": null,
      "id": "e6e64833-4c1e-4f13-a5e6-4fa2ab4474af",
      "metadata": {
        "id": "e6e64833-4c1e-4f13-a5e6-4fa2ab4474af",
        "outputId": "f48f8908-0ef4-4a1a-d390-d8fad341333d"
      },
      "outputs": [
        {
          "data": {
            "text/html": [
              "<div>\n",
              "<style scoped>\n",
              "    .dataframe tbody tr th:only-of-type {\n",
              "        vertical-align: middle;\n",
              "    }\n",
              "\n",
              "    .dataframe tbody tr th {\n",
              "        vertical-align: top;\n",
              "    }\n",
              "\n",
              "    .dataframe thead th {\n",
              "        text-align: right;\n",
              "    }\n",
              "</style>\n",
              "<table border=\"1\" class=\"dataframe\">\n",
              "  <thead>\n",
              "    <tr style=\"text-align: right;\">\n",
              "      <th></th>\n",
              "      <th>event_time</th>\n",
              "      <th>event_type</th>\n",
              "      <th>product_id</th>\n",
              "      <th>category_id</th>\n",
              "      <th>category_code</th>\n",
              "      <th>brand</th>\n",
              "      <th>price</th>\n",
              "      <th>user_id</th>\n",
              "      <th>user_session</th>\n",
              "      <th>purchase</th>\n",
              "      <th>day</th>\n",
              "      <th>hour</th>\n",
              "    </tr>\n",
              "  </thead>\n",
              "  <tbody>\n",
              "    <tr>\n",
              "      <th>0</th>\n",
              "      <td>2019-11-01 00:00:00+00:00</td>\n",
              "      <td>view</td>\n",
              "      <td>1003461</td>\n",
              "      <td>2053013555631882655</td>\n",
              "      <td>electronics.smartphone</td>\n",
              "      <td>xiaomi</td>\n",
              "      <td>489.07</td>\n",
              "      <td>520088904</td>\n",
              "      <td>4d3b30da-a5e4-49df-b1a8-ba5943f1dd33</td>\n",
              "      <td>0</td>\n",
              "      <td>01</td>\n",
              "      <td>00</td>\n",
              "    </tr>\n",
              "    <tr>\n",
              "      <th>1</th>\n",
              "      <td>2019-11-01 00:00:00+00:00</td>\n",
              "      <td>view</td>\n",
              "      <td>5000088</td>\n",
              "      <td>2053013566100866035</td>\n",
              "      <td>appliances.sewing_machine</td>\n",
              "      <td>janome</td>\n",
              "      <td>293.65</td>\n",
              "      <td>530496790</td>\n",
              "      <td>8e5f4f83-366c-4f70-860e-ca7417414283</td>\n",
              "      <td>0</td>\n",
              "      <td>01</td>\n",
              "      <td>00</td>\n",
              "    </tr>\n",
              "    <tr>\n",
              "      <th>3</th>\n",
              "      <td>2019-11-01 00:00:01+00:00</td>\n",
              "      <td>view</td>\n",
              "      <td>3601530</td>\n",
              "      <td>2053013563810775923</td>\n",
              "      <td>appliances.kitchen.washer</td>\n",
              "      <td>lg</td>\n",
              "      <td>712.87</td>\n",
              "      <td>518085591</td>\n",
              "      <td>3bfb58cd-7892-48cc-8020-2f17e6de6e7f</td>\n",
              "      <td>0</td>\n",
              "      <td>01</td>\n",
              "      <td>00</td>\n",
              "    </tr>\n",
              "    <tr>\n",
              "      <th>4</th>\n",
              "      <td>2019-11-01 00:00:01+00:00</td>\n",
              "      <td>view</td>\n",
              "      <td>1004775</td>\n",
              "      <td>2053013555631882655</td>\n",
              "      <td>electronics.smartphone</td>\n",
              "      <td>xiaomi</td>\n",
              "      <td>183.27</td>\n",
              "      <td>558856683</td>\n",
              "      <td>313628f1-68b8-460d-84f6-cec7a8796ef2</td>\n",
              "      <td>0</td>\n",
              "      <td>01</td>\n",
              "      <td>00</td>\n",
              "    </tr>\n",
              "    <tr>\n",
              "      <th>5</th>\n",
              "      <td>2019-11-01 00:00:01+00:00</td>\n",
              "      <td>view</td>\n",
              "      <td>1306894</td>\n",
              "      <td>2053013558920217191</td>\n",
              "      <td>computers.notebook</td>\n",
              "      <td>hp</td>\n",
              "      <td>360.09</td>\n",
              "      <td>520772685</td>\n",
              "      <td>816a59f3-f5ae-4ccd-9b23-82aa8c23d33c</td>\n",
              "      <td>0</td>\n",
              "      <td>01</td>\n",
              "      <td>00</td>\n",
              "    </tr>\n",
              "  </tbody>\n",
              "</table>\n",
              "</div>"
            ],
            "text/plain": [
              "                 event_time event_type  product_id          category_id  \\\n",
              "0 2019-11-01 00:00:00+00:00       view     1003461  2053013555631882655   \n",
              "1 2019-11-01 00:00:00+00:00       view     5000088  2053013566100866035   \n",
              "3 2019-11-01 00:00:01+00:00       view     3601530  2053013563810775923   \n",
              "4 2019-11-01 00:00:01+00:00       view     1004775  2053013555631882655   \n",
              "5 2019-11-01 00:00:01+00:00       view     1306894  2053013558920217191   \n",
              "\n",
              "               category_code   brand   price    user_id  \\\n",
              "0     electronics.smartphone  xiaomi  489.07  520088904   \n",
              "1  appliances.sewing_machine  janome  293.65  530496790   \n",
              "3  appliances.kitchen.washer      lg  712.87  518085591   \n",
              "4     electronics.smartphone  xiaomi  183.27  558856683   \n",
              "5         computers.notebook      hp  360.09  520772685   \n",
              "\n",
              "                           user_session  purchase day hour  \n",
              "0  4d3b30da-a5e4-49df-b1a8-ba5943f1dd33         0  01   00  \n",
              "1  8e5f4f83-366c-4f70-860e-ca7417414283         0  01   00  \n",
              "3  3bfb58cd-7892-48cc-8020-2f17e6de6e7f         0  01   00  \n",
              "4  313628f1-68b8-460d-84f6-cec7a8796ef2         0  01   00  \n",
              "5  816a59f3-f5ae-4ccd-9b23-82aa8c23d33c         0  01   00  "
            ]
          },
          "execution_count": 17,
          "metadata": {},
          "output_type": "execute_result"
        }
      ],
      "source": [
        "updated_df.loc[:, 'day'] = updated_df.event_time.dt.strftime('%d')\n",
        "updated_df.loc[:, 'hour'] = updated_df.event_time.dt.strftime('%H') # extract both day and hour from event time column\n",
        "updated_df.head() # data preview"
      ]
    },
    {
      "cell_type": "code",
      "execution_count": null,
      "id": "ec295fb1-3b1e-425a-90a6-65b0aa1e8fe4",
      "metadata": {
        "id": "ec295fb1-3b1e-425a-90a6-65b0aa1e8fe4",
        "outputId": "af864091-d1c0-46b6-b000-5c11fa96baad"
      },
      "outputs": [
        {
          "data": {
            "text/plain": [
              "(42089564, 12)"
            ]
          },
          "execution_count": 18,
          "metadata": {},
          "output_type": "execute_result"
        }
      ],
      "source": [
        "updated_df.shape # no. of observations; no. of columns"
      ]
    },
    {
      "cell_type": "code",
      "execution_count": null,
      "id": "bc1bc253-770b-46ff-b667-7342babf731d",
      "metadata": {
        "id": "bc1bc253-770b-46ff-b667-7342babf731d",
        "outputId": "e1f62c0c-1e6c-4b04-e0b4-4e65092546af"
      },
      "outputs": [
        {
          "data": {
            "text/plain": [
              "Index(['event_time', 'event_type', 'product_id', 'category_id',\n",
              "       'category_code', 'brand', 'price', 'user_id', 'user_session',\n",
              "       'purchase', 'day', 'hour'],\n",
              "      dtype='object')"
            ]
          },
          "execution_count": 19,
          "metadata": {},
          "output_type": "execute_result"
        }
      ],
      "source": [
        "updated_df.keys() # column names"
      ]
    },
    {
      "cell_type": "markdown",
      "id": "256c55a1-a75d-4075-a42e-62799cba28d9",
      "metadata": {
        "id": "256c55a1-a75d-4075-a42e-62799cba28d9"
      },
      "source": [
        "## Análisis y Visualización"
      ]
    },
    {
      "cell_type": "markdown",
      "id": "6f0f6f00-74e3-4580-9452-11e2855dfd7d",
      "metadata": {
        "id": "6f0f6f00-74e3-4580-9452-11e2855dfd7d"
      },
      "source": [
        "### Cúal es la tasa de conversión general?"
      ]
    },
    {
      "cell_type": "code",
      "execution_count": null,
      "id": "c1a00f27-9412-4a70-9bad-56a725b3c04b",
      "metadata": {
        "id": "c1a00f27-9412-4a70-9bad-56a725b3c04b",
        "outputId": "10cd1087-32e7-43a7-f865-b092371a0454"
      },
      "outputs": [
        {
          "data": {
            "text/plain": [
              "659256"
            ]
          },
          "execution_count": 20,
          "metadata": {},
          "output_type": "execute_result"
        }
      ],
      "source": [
        "no_purchases = updated_df['purchase'].sum() # total no. of purchases\n",
        "no_purchases"
      ]
    },
    {
      "cell_type": "code",
      "execution_count": null,
      "id": "983b1df0-e430-49a1-a1d2-f81d00d5c655",
      "metadata": {
        "id": "983b1df0-e430-49a1-a1d2-f81d00d5c655",
        "outputId": "2835167d-8c16-400e-da88-21a95a252251"
      },
      "outputs": [
        {
          "data": {
            "text/plain": [
              "39315226"
            ]
          },
          "execution_count": 21,
          "metadata": {},
          "output_type": "execute_result"
        }
      ],
      "source": [
        "views = updated_df[updated_df['event_type'] == 'view'] # filter df by event type (views)\n",
        "no_views = views.shape[0] # total no. of views\n",
        "no_views"
      ]
    },
    {
      "cell_type": "code",
      "execution_count": null,
      "id": "2e394bd8-f6ee-4445-b933-1e2e10f77c61",
      "metadata": {
        "id": "2e394bd8-f6ee-4445-b933-1e2e10f77c61",
        "outputId": "de703625-a687-4204-9694-7fa349ad4b2e"
      },
      "outputs": [
        {
          "name": "stdout",
          "output_type": "stream",
          "text": [
            "Tasa de conversión general: 0.02\n"
          ]
        }
      ],
      "source": [
        "print(\"Tasa de conversión general: {:.2f}\".format(no_purchases/no_views))"
      ]
    },
    {
      "cell_type": "markdown",
      "id": "cacf3d55-f3a6-4ecd-b9d2-2043204ba1ae",
      "metadata": {
        "id": "cacf3d55-f3a6-4ecd-b9d2-2043204ba1ae"
      },
      "source": [
        "#### En qué horas del día se concentra la mayoría de las compras?"
      ]
    },
    {
      "cell_type": "code",
      "execution_count": null,
      "id": "edd3ce83-8100-4f8c-98e1-ee2757b32aa0",
      "metadata": {
        "id": "edd3ce83-8100-4f8c-98e1-ee2757b32aa0",
        "outputId": "84c1b954-0021-4518-9cb3-a0a4496ffad7"
      },
      "outputs": [
        {
          "data": {
            "text/html": [
              "<div>\n",
              "<style scoped>\n",
              "    .dataframe tbody tr th:only-of-type {\n",
              "        vertical-align: middle;\n",
              "    }\n",
              "\n",
              "    .dataframe tbody tr th {\n",
              "        vertical-align: top;\n",
              "    }\n",
              "\n",
              "    .dataframe thead th {\n",
              "        text-align: right;\n",
              "    }\n",
              "</style>\n",
              "<table border=\"1\" class=\"dataframe\">\n",
              "  <thead>\n",
              "    <tr style=\"text-align: right;\">\n",
              "      <th></th>\n",
              "      <th>event_time</th>\n",
              "      <th>event_type</th>\n",
              "      <th>product_id</th>\n",
              "      <th>category_id</th>\n",
              "      <th>category_code</th>\n",
              "      <th>brand</th>\n",
              "      <th>price</th>\n",
              "      <th>user_id</th>\n",
              "      <th>user_session</th>\n",
              "      <th>purchase</th>\n",
              "      <th>day</th>\n",
              "      <th>hour</th>\n",
              "    </tr>\n",
              "  </thead>\n",
              "  <tbody>\n",
              "    <tr>\n",
              "      <th>168</th>\n",
              "      <td>2019-11-01 00:01:04+00:00</td>\n",
              "      <td>purchase</td>\n",
              "      <td>1005161</td>\n",
              "      <td>2053013555631882655</td>\n",
              "      <td>electronics.smartphone</td>\n",
              "      <td>xiaomi</td>\n",
              "      <td>211.92</td>\n",
              "      <td>513351129</td>\n",
              "      <td>e6b7ce9b-1938-4e20-976c-8b4163aea11d</td>\n",
              "      <td>1</td>\n",
              "      <td>01</td>\n",
              "      <td>00</td>\n",
              "    </tr>\n",
              "    <tr>\n",
              "      <th>707</th>\n",
              "      <td>2019-11-01 00:04:51+00:00</td>\n",
              "      <td>purchase</td>\n",
              "      <td>1004856</td>\n",
              "      <td>2053013555631882655</td>\n",
              "      <td>electronics.smartphone</td>\n",
              "      <td>samsung</td>\n",
              "      <td>128.42</td>\n",
              "      <td>562958505</td>\n",
              "      <td>0f039697-fedc-40fa-8830-39c1a024351d</td>\n",
              "      <td>1</td>\n",
              "      <td>01</td>\n",
              "      <td>00</td>\n",
              "    </tr>\n",
              "    <tr>\n",
              "      <th>939</th>\n",
              "      <td>2019-11-01 00:06:33+00:00</td>\n",
              "      <td>purchase</td>\n",
              "      <td>1801881</td>\n",
              "      <td>2053013554415534427</td>\n",
              "      <td>electronics.video.tv</td>\n",
              "      <td>samsung</td>\n",
              "      <td>488.80</td>\n",
              "      <td>557746614</td>\n",
              "      <td>4d76d6d3-fff5-4880-8327-e9e57b618e0e</td>\n",
              "      <td>1</td>\n",
              "      <td>01</td>\n",
              "      <td>00</td>\n",
              "    </tr>\n",
              "    <tr>\n",
              "      <th>942</th>\n",
              "      <td>2019-11-01 00:06:34+00:00</td>\n",
              "      <td>purchase</td>\n",
              "      <td>5800823</td>\n",
              "      <td>2053013553945772349</td>\n",
              "      <td>electronics.audio.subwoofer</td>\n",
              "      <td>nakamichi</td>\n",
              "      <td>123.56</td>\n",
              "      <td>514166940</td>\n",
              "      <td>8ef5214a-86ad-4d0b-8df3-4280dd411b47</td>\n",
              "      <td>1</td>\n",
              "      <td>01</td>\n",
              "      <td>00</td>\n",
              "    </tr>\n",
              "    <tr>\n",
              "      <th>1107</th>\n",
              "      <td>2019-11-01 00:07:38+00:00</td>\n",
              "      <td>purchase</td>\n",
              "      <td>30000218</td>\n",
              "      <td>2127425436764865054</td>\n",
              "      <td>construction.tools.welding</td>\n",
              "      <td>magnetta</td>\n",
              "      <td>254.78</td>\n",
              "      <td>515240495</td>\n",
              "      <td>0253151d-5c84-4809-ba02-38ac405494e1</td>\n",
              "      <td>1</td>\n",
              "      <td>01</td>\n",
              "      <td>00</td>\n",
              "    </tr>\n",
              "  </tbody>\n",
              "</table>\n",
              "</div>"
            ],
            "text/plain": [
              "                    event_time event_type  product_id          category_id  \\\n",
              "168  2019-11-01 00:01:04+00:00   purchase     1005161  2053013555631882655   \n",
              "707  2019-11-01 00:04:51+00:00   purchase     1004856  2053013555631882655   \n",
              "939  2019-11-01 00:06:33+00:00   purchase     1801881  2053013554415534427   \n",
              "942  2019-11-01 00:06:34+00:00   purchase     5800823  2053013553945772349   \n",
              "1107 2019-11-01 00:07:38+00:00   purchase    30000218  2127425436764865054   \n",
              "\n",
              "                    category_code      brand   price    user_id  \\\n",
              "168        electronics.smartphone     xiaomi  211.92  513351129   \n",
              "707        electronics.smartphone    samsung  128.42  562958505   \n",
              "939          electronics.video.tv    samsung  488.80  557746614   \n",
              "942   electronics.audio.subwoofer  nakamichi  123.56  514166940   \n",
              "1107   construction.tools.welding   magnetta  254.78  515240495   \n",
              "\n",
              "                              user_session  purchase day hour  \n",
              "168   e6b7ce9b-1938-4e20-976c-8b4163aea11d         1  01   00  \n",
              "707   0f039697-fedc-40fa-8830-39c1a024351d         1  01   00  \n",
              "939   4d76d6d3-fff5-4880-8327-e9e57b618e0e         1  01   00  \n",
              "942   8ef5214a-86ad-4d0b-8df3-4280dd411b47         1  01   00  \n",
              "1107  0253151d-5c84-4809-ba02-38ac405494e1         1  01   00  "
            ]
          },
          "execution_count": 24,
          "metadata": {},
          "output_type": "execute_result"
        }
      ],
      "source": [
        "purchases = updated_df[updated_df['event_type'] == 'purchase'] # filter df by event type (purchases)\n",
        "purchases.head() # data preview"
      ]
    },
    {
      "cell_type": "code",
      "execution_count": null,
      "id": "f926a3f3-387d-4a25-b2d0-23bff9162cd7",
      "metadata": {
        "id": "f926a3f3-387d-4a25-b2d0-23bff9162cd7",
        "outputId": "962d4ad2-a60f-4c6d-e8bf-cf08ebdf4a2c"
      },
      "outputs": [
        {
          "name": "stdout",
          "output_type": "stream",
          "text": [
            "<class 'pandas.core.frame.DataFrame'>\n",
            "Index: 659256 entries, 168 to 67501863\n",
            "Data columns (total 12 columns):\n",
            " #   Column         Non-Null Count   Dtype              \n",
            "---  ------         --------------   -----              \n",
            " 0   event_time     659256 non-null  datetime64[ns, UTC]\n",
            " 1   event_type     659256 non-null  object             \n",
            " 2   product_id     659256 non-null  int64              \n",
            " 3   category_id    659256 non-null  int64              \n",
            " 4   category_code  659256 non-null  object             \n",
            " 5   brand          659256 non-null  object             \n",
            " 6   price          659256 non-null  float64            \n",
            " 7   user_id        659256 non-null  int64              \n",
            " 8   user_session   659256 non-null  object             \n",
            " 9   purchase       659256 non-null  int64              \n",
            " 10  day            659256 non-null  object             \n",
            " 11  hour           659256 non-null  object             \n",
            "dtypes: datetime64[ns, UTC](1), float64(1), int64(4), object(6)\n",
            "memory usage: 65.4+ MB\n"
          ]
        }
      ],
      "source": [
        "purchases.info() # print df schema"
      ]
    },
    {
      "cell_type": "code",
      "execution_count": null,
      "id": "0c37a2ad-4458-46b0-8fe0-334d8a3ccdf4",
      "metadata": {
        "id": "0c37a2ad-4458-46b0-8fe0-334d8a3ccdf4",
        "outputId": "b5db673e-9a5e-4702-ea8b-c2beed437110"
      },
      "outputs": [
        {
          "data": {
            "text/plain": [
              "hour\n",
              "00     1990\n",
              "01     2879\n",
              "02     7349\n",
              "03    17890\n",
              "04    30681\n",
              "05    37588\n",
              "06    40919\n",
              "07    41912\n",
              "08    47309\n",
              "09    52140\n",
              "10    50496\n",
              "11    47219\n",
              "12    44971\n",
              "13    43776\n",
              "14    43248\n",
              "15    37595\n",
              "16    32714\n",
              "17    31533\n",
              "18    16994\n",
              "19    12406\n",
              "20     7497\n",
              "21     4747\n",
              "22     3312\n",
              "23     2091\n",
              "Name: count, dtype: int64"
            ]
          },
          "execution_count": 30,
          "metadata": {},
          "output_type": "execute_result"
        }
      ],
      "source": [
        "purchases_per_hour = purchases['hour'].value_counts().sort_index() # count purchases per hour and sort index\n",
        "purchases_per_hour"
      ]
    },
    {
      "cell_type": "code",
      "execution_count": null,
      "id": "e01b8b9a-e5e7-40b0-ac2c-7548826ed94f",
      "metadata": {
        "id": "e01b8b9a-e5e7-40b0-ac2c-7548826ed94f",
        "outputId": "c0cb2c9d-0704-46f2-d611-b505abda43ea"
      },
      "outputs": [
        {
          "data": {
            "image/png": "[encoded data removed]",
            "text/plain": [
              "<Figure size 800x400 with 1 Axes>"
            ]
          },
          "metadata": {},
          "output_type": "display_data"
        }
      ],
      "source": [
        "plt.figure(figsize = (8, 4)) # figure size\n",
        "plt.bar(purchases_per_hour.index, purchases_per_hour.values, color = 'grey') # plt bar plot\n",
        "plt.title('No. de Compras por Hora del Día') # plot title\n",
        "plt.xlabel('Hora del Día') # x-label\n",
        "plt.ylabel('No. de Compras') # y-label\n",
        "plt.grid(False) # no grid\n",
        "plt.show()"
      ]
    },
    {
      "cell_type": "markdown",
      "id": "b15a3ad1-1f0a-4f66-9e16-c2350d98d8ee",
      "metadata": {
        "id": "b15a3ad1-1f0a-4f66-9e16-c2350d98d8ee"
      },
      "source": [
        "#### Qué catagorías tienen mayor conversión?"
      ]
    },
    {
      "cell_type": "code",
      "execution_count": null,
      "id": "439a70cd-f442-4880-bafa-e858841ae05d",
      "metadata": {
        "id": "439a70cd-f442-4880-bafa-e858841ae05d",
        "outputId": "08ab43cf-c1b3-4f34-b760-94599a0a53d9"
      },
      "outputs": [
        {
          "data": {
            "text/plain": [
              "category_code\n",
              "accessories.bag         258200\n",
              "accessories.umbrella      4890\n",
              "accessories.wallet       66862\n",
              "apparel.belt              1856\n",
              "apparel.costume          79601\n",
              "dtype: int64"
            ]
          },
          "execution_count": 64,
          "metadata": {},
          "output_type": "execute_result"
        }
      ],
      "source": [
        "views = updated_df[updated_df['event_type'] == 'view'] # filter df by event type (views)\n",
        "views = views.groupby('category_code').size() # return the number of elements in each category\n",
        "views.head()"
      ]
    },
    {
      "cell_type": "code",
      "execution_count": null,
      "id": "47f776f9-c89e-4a74-aee7-ad23a77deec9",
      "metadata": {
        "id": "47f776f9-c89e-4a74-aee7-ad23a77deec9",
        "outputId": "7a27110f-68ea-4479-e732-13bde4e53f14"
      },
      "outputs": [
        {
          "data": {
            "text/plain": [
              "category_code\n",
              "accessories.bag         1494\n",
              "accessories.umbrella      26\n",
              "accessories.wallet       366\n",
              "apparel.belt              31\n",
              "apparel.costume          215\n",
              "dtype: int64"
            ]
          },
          "execution_count": 65,
          "metadata": {},
          "output_type": "execute_result"
        }
      ],
      "source": [
        "purchases = updated_df[updated_df['event_type'] == 'purchase'] # filter df by event type (purchase)\n",
        "purchases = purchases.groupby('category_code').size() # return the number of elements in each category\n",
        "purchases.head()"
      ]
    },
    {
      "cell_type": "code",
      "execution_count": null,
      "id": "651ffded-5701-4eb7-950c-d7a1199152a0",
      "metadata": {
        "id": "651ffded-5701-4eb7-950c-d7a1199152a0",
        "outputId": "68572d82-5b4d-44a5-fe9e-222e29eae7af"
      },
      "outputs": [
        {
          "data": {
            "text/plain": [
              "((129,), (126,))"
            ]
          },
          "execution_count": 70,
          "metadata": {},
          "output_type": "execute_result"
        }
      ],
      "source": [
        "views.shape, purchases.shape # no. of observations for both dfs"
      ]
    },
    {
      "cell_type": "markdown",
      "id": "440c9134-dfea-41d3-b56f-185170c7332d",
      "metadata": {
        "id": "440c9134-dfea-41d3-b56f-185170c7332d"
      },
      "source": [
        "**Nota**: La dimensión difiere entre ambos dataframes, algunas categorías pueden no tener compras registradas."
      ]
    },
    {
      "cell_type": "code",
      "execution_count": null,
      "id": "4662c735-d788-436e-8222-dc7d4cada206",
      "metadata": {
        "id": "4662c735-d788-436e-8222-dc7d4cada206",
        "outputId": "35dce3b3-9c51-432a-c4e6-2f14d8635c89"
      },
      "outputs": [
        {
          "data": {
            "text/html": [
              "<div>\n",
              "<style scoped>\n",
              "    .dataframe tbody tr th:only-of-type {\n",
              "        vertical-align: middle;\n",
              "    }\n",
              "\n",
              "    .dataframe tbody tr th {\n",
              "        vertical-align: top;\n",
              "    }\n",
              "\n",
              "    .dataframe thead th {\n",
              "        text-align: right;\n",
              "    }\n",
              "</style>\n",
              "<table border=\"1\" class=\"dataframe\">\n",
              "  <thead>\n",
              "    <tr style=\"text-align: right;\">\n",
              "      <th></th>\n",
              "      <th>views</th>\n",
              "      <th>purchases</th>\n",
              "    </tr>\n",
              "    <tr>\n",
              "      <th>category_code</th>\n",
              "      <th></th>\n",
              "      <th></th>\n",
              "    </tr>\n",
              "  </thead>\n",
              "  <tbody>\n",
              "    <tr>\n",
              "      <th>accessories.bag</th>\n",
              "      <td>258200</td>\n",
              "      <td>1494.0</td>\n",
              "    </tr>\n",
              "    <tr>\n",
              "      <th>accessories.umbrella</th>\n",
              "      <td>4890</td>\n",
              "      <td>26.0</td>\n",
              "    </tr>\n",
              "    <tr>\n",
              "      <th>accessories.wallet</th>\n",
              "      <td>66862</td>\n",
              "      <td>366.0</td>\n",
              "    </tr>\n",
              "    <tr>\n",
              "      <th>apparel.belt</th>\n",
              "      <td>1856</td>\n",
              "      <td>31.0</td>\n",
              "    </tr>\n",
              "    <tr>\n",
              "      <th>apparel.costume</th>\n",
              "      <td>79601</td>\n",
              "      <td>215.0</td>\n",
              "    </tr>\n",
              "  </tbody>\n",
              "</table>\n",
              "</div>"
            ],
            "text/plain": [
              "                       views  purchases\n",
              "category_code                          \n",
              "accessories.bag       258200     1494.0\n",
              "accessories.umbrella    4890       26.0\n",
              "accessories.wallet     66862      366.0\n",
              "apparel.belt            1856       31.0\n",
              "apparel.costume        79601      215.0"
            ]
          },
          "execution_count": 76,
          "metadata": {},
          "output_type": "execute_result"
        }
      ],
      "source": [
        "categories = pd.concat([views, purchases], axis = 1).fillna(0) # concatenate both dfs\n",
        "categories = categories.rename(columns = {0: 'views', 1: 'purchases'}) # rename columns\n",
        "categories.head()"
      ]
    },
    {
      "cell_type": "code",
      "execution_count": null,
      "id": "32e241dc-fdcd-4c4a-bdd7-b0072fc226e3",
      "metadata": {
        "id": "32e241dc-fdcd-4c4a-bdd7-b0072fc226e3",
        "outputId": "164a322a-b2c6-4f58-f5da-12ea4f198a84"
      },
      "outputs": [
        {
          "data": {
            "text/html": [
              "<div>\n",
              "<style scoped>\n",
              "    .dataframe tbody tr th:only-of-type {\n",
              "        vertical-align: middle;\n",
              "    }\n",
              "\n",
              "    .dataframe tbody tr th {\n",
              "        vertical-align: top;\n",
              "    }\n",
              "\n",
              "    .dataframe thead th {\n",
              "        text-align: right;\n",
              "    }\n",
              "</style>\n",
              "<table border=\"1\" class=\"dataframe\">\n",
              "  <thead>\n",
              "    <tr style=\"text-align: right;\">\n",
              "      <th></th>\n",
              "      <th>views</th>\n",
              "      <th>purchases</th>\n",
              "      <th>conversion_rate</th>\n",
              "    </tr>\n",
              "    <tr>\n",
              "      <th>category_code</th>\n",
              "      <th></th>\n",
              "      <th></th>\n",
              "      <th></th>\n",
              "    </tr>\n",
              "  </thead>\n",
              "  <tbody>\n",
              "    <tr>\n",
              "      <th>kids.fmcg.diapers</th>\n",
              "      <td>26441</td>\n",
              "      <td>779.0</td>\n",
              "      <td>0.029462</td>\n",
              "    </tr>\n",
              "    <tr>\n",
              "      <th>electronics.smartphone</th>\n",
              "      <td>14811764</td>\n",
              "      <td>382492.0</td>\n",
              "      <td>0.025824</td>\n",
              "    </tr>\n",
              "    <tr>\n",
              "      <th>electronics.audio.headphone</th>\n",
              "      <td>1632332</td>\n",
              "      <td>40742.0</td>\n",
              "      <td>0.024959</td>\n",
              "    </tr>\n",
              "    <tr>\n",
              "      <th>appliances.kitchen.microwave</th>\n",
              "      <td>269589</td>\n",
              "      <td>4962.0</td>\n",
              "      <td>0.018406</td>\n",
              "    </tr>\n",
              "    <tr>\n",
              "      <th>appliances.personal.scales</th>\n",
              "      <td>88110</td>\n",
              "      <td>1576.0</td>\n",
              "      <td>0.017887</td>\n",
              "    </tr>\n",
              "    <tr>\n",
              "      <th>appliances.environment.water_heater</th>\n",
              "      <td>185364</td>\n",
              "      <td>3275.0</td>\n",
              "      <td>0.017668</td>\n",
              "    </tr>\n",
              "    <tr>\n",
              "      <th>medicine.tools.tonometer</th>\n",
              "      <td>20150</td>\n",
              "      <td>344.0</td>\n",
              "      <td>0.017072</td>\n",
              "    </tr>\n",
              "    <tr>\n",
              "      <th>apparel.belt</th>\n",
              "      <td>1856</td>\n",
              "      <td>31.0</td>\n",
              "      <td>0.016703</td>\n",
              "    </tr>\n",
              "    <tr>\n",
              "      <th>appliances.iron</th>\n",
              "      <td>278414</td>\n",
              "      <td>4648.0</td>\n",
              "      <td>0.016695</td>\n",
              "    </tr>\n",
              "    <tr>\n",
              "      <th>stationery.cartrige</th>\n",
              "      <td>8675</td>\n",
              "      <td>142.0</td>\n",
              "      <td>0.016369</td>\n",
              "    </tr>\n",
              "  </tbody>\n",
              "</table>\n",
              "</div>"
            ],
            "text/plain": [
              "                                        views  purchases  conversion_rate\n",
              "category_code                                                            \n",
              "kids.fmcg.diapers                       26441      779.0         0.029462\n",
              "electronics.smartphone               14811764   382492.0         0.025824\n",
              "electronics.audio.headphone           1632332    40742.0         0.024959\n",
              "appliances.kitchen.microwave           269589     4962.0         0.018406\n",
              "appliances.personal.scales              88110     1576.0         0.017887\n",
              "appliances.environment.water_heater    185364     3275.0         0.017668\n",
              "medicine.tools.tonometer                20150      344.0         0.017072\n",
              "apparel.belt                             1856       31.0         0.016703\n",
              "appliances.iron                        278414     4648.0         0.016695\n",
              "stationery.cartrige                      8675      142.0         0.016369"
            ]
          },
          "execution_count": 82,
          "metadata": {},
          "output_type": "execute_result"
        }
      ],
      "source": [
        "categories['conversion_rate'] = categories['purchases'] / categories['views'] # calculate conversion rate for each category\n",
        "categories = categories.sort_values('conversion_rate', ascending = False) # sort df by conversion rate\n",
        "categories.head(10) # top 10 categories sorted by conversion rate"
      ]
    },
    {
      "cell_type": "markdown",
      "id": "61d72687-2305-4164-a9e2-e0357a916e15",
      "metadata": {
        "id": "61d72687-2305-4164-a9e2-e0357a916e15"
      },
      "source": [
        "#### Cuántos usuarios añaden productos al carrito pero no compran? Qué porcentaje representan?"
      ]
    },
    {
      "cell_type": "code",
      "execution_count": null,
      "id": "1ad81720-2895-4f00-8134-75c126c55cd9",
      "metadata": {
        "id": "1ad81720-2895-4f00-8134-75c126c55cd9",
        "outputId": "6f2d1df2-ed2a-41e1-dca1-ea22855142ed"
      },
      "outputs": [
        {
          "data": {
            "text/html": [
              "<div>\n",
              "<style scoped>\n",
              "    .dataframe tbody tr th:only-of-type {\n",
              "        vertical-align: middle;\n",
              "    }\n",
              "\n",
              "    .dataframe tbody tr th {\n",
              "        vertical-align: top;\n",
              "    }\n",
              "\n",
              "    .dataframe thead th {\n",
              "        text-align: right;\n",
              "    }\n",
              "</style>\n",
              "<table border=\"1\" class=\"dataframe\">\n",
              "  <thead>\n",
              "    <tr style=\"text-align: right;\">\n",
              "      <th></th>\n",
              "      <th>event_time</th>\n",
              "      <th>event_type</th>\n",
              "      <th>product_id</th>\n",
              "      <th>category_id</th>\n",
              "      <th>category_code</th>\n",
              "      <th>brand</th>\n",
              "      <th>price</th>\n",
              "      <th>user_id</th>\n",
              "      <th>user_session</th>\n",
              "      <th>purchase</th>\n",
              "      <th>day</th>\n",
              "      <th>hour</th>\n",
              "    </tr>\n",
              "  </thead>\n",
              "  <tbody>\n",
              "    <tr>\n",
              "      <th>0</th>\n",
              "      <td>2019-11-01 00:00:00+00:00</td>\n",
              "      <td>view</td>\n",
              "      <td>1003461</td>\n",
              "      <td>2053013555631882655</td>\n",
              "      <td>electronics.smartphone</td>\n",
              "      <td>xiaomi</td>\n",
              "      <td>489.07</td>\n",
              "      <td>520088904</td>\n",
              "      <td>4d3b30da-a5e4-49df-b1a8-ba5943f1dd33</td>\n",
              "      <td>0</td>\n",
              "      <td>01</td>\n",
              "      <td>00</td>\n",
              "    </tr>\n",
              "    <tr>\n",
              "      <th>1</th>\n",
              "      <td>2019-11-01 00:00:00+00:00</td>\n",
              "      <td>view</td>\n",
              "      <td>5000088</td>\n",
              "      <td>2053013566100866035</td>\n",
              "      <td>appliances.sewing_machine</td>\n",
              "      <td>janome</td>\n",
              "      <td>293.65</td>\n",
              "      <td>530496790</td>\n",
              "      <td>8e5f4f83-366c-4f70-860e-ca7417414283</td>\n",
              "      <td>0</td>\n",
              "      <td>01</td>\n",
              "      <td>00</td>\n",
              "    </tr>\n",
              "    <tr>\n",
              "      <th>3</th>\n",
              "      <td>2019-11-01 00:00:01+00:00</td>\n",
              "      <td>view</td>\n",
              "      <td>3601530</td>\n",
              "      <td>2053013563810775923</td>\n",
              "      <td>appliances.kitchen.washer</td>\n",
              "      <td>lg</td>\n",
              "      <td>712.87</td>\n",
              "      <td>518085591</td>\n",
              "      <td>3bfb58cd-7892-48cc-8020-2f17e6de6e7f</td>\n",
              "      <td>0</td>\n",
              "      <td>01</td>\n",
              "      <td>00</td>\n",
              "    </tr>\n",
              "    <tr>\n",
              "      <th>4</th>\n",
              "      <td>2019-11-01 00:00:01+00:00</td>\n",
              "      <td>view</td>\n",
              "      <td>1004775</td>\n",
              "      <td>2053013555631882655</td>\n",
              "      <td>electronics.smartphone</td>\n",
              "      <td>xiaomi</td>\n",
              "      <td>183.27</td>\n",
              "      <td>558856683</td>\n",
              "      <td>313628f1-68b8-460d-84f6-cec7a8796ef2</td>\n",
              "      <td>0</td>\n",
              "      <td>01</td>\n",
              "      <td>00</td>\n",
              "    </tr>\n",
              "    <tr>\n",
              "      <th>5</th>\n",
              "      <td>2019-11-01 00:00:01+00:00</td>\n",
              "      <td>view</td>\n",
              "      <td>1306894</td>\n",
              "      <td>2053013558920217191</td>\n",
              "      <td>computers.notebook</td>\n",
              "      <td>hp</td>\n",
              "      <td>360.09</td>\n",
              "      <td>520772685</td>\n",
              "      <td>816a59f3-f5ae-4ccd-9b23-82aa8c23d33c</td>\n",
              "      <td>0</td>\n",
              "      <td>01</td>\n",
              "      <td>00</td>\n",
              "    </tr>\n",
              "  </tbody>\n",
              "</table>\n",
              "</div>"
            ],
            "text/plain": [
              "                 event_time event_type  product_id          category_id  \\\n",
              "0 2019-11-01 00:00:00+00:00       view     1003461  2053013555631882655   \n",
              "1 2019-11-01 00:00:00+00:00       view     5000088  2053013566100866035   \n",
              "3 2019-11-01 00:00:01+00:00       view     3601530  2053013563810775923   \n",
              "4 2019-11-01 00:00:01+00:00       view     1004775  2053013555631882655   \n",
              "5 2019-11-01 00:00:01+00:00       view     1306894  2053013558920217191   \n",
              "\n",
              "               category_code   brand   price    user_id  \\\n",
              "0     electronics.smartphone  xiaomi  489.07  520088904   \n",
              "1  appliances.sewing_machine  janome  293.65  530496790   \n",
              "3  appliances.kitchen.washer      lg  712.87  518085591   \n",
              "4     electronics.smartphone  xiaomi  183.27  558856683   \n",
              "5         computers.notebook      hp  360.09  520772685   \n",
              "\n",
              "                           user_session  purchase day hour  \n",
              "0  4d3b30da-a5e4-49df-b1a8-ba5943f1dd33         0  01   00  \n",
              "1  8e5f4f83-366c-4f70-860e-ca7417414283         0  01   00  \n",
              "3  3bfb58cd-7892-48cc-8020-2f17e6de6e7f         0  01   00  \n",
              "4  313628f1-68b8-460d-84f6-cec7a8796ef2         0  01   00  \n",
              "5  816a59f3-f5ae-4ccd-9b23-82aa8c23d33c         0  01   00  "
            ]
          },
          "execution_count": 84,
          "metadata": {},
          "output_type": "execute_result"
        }
      ],
      "source": [
        "updated_df.head() # data preview"
      ]
    },
    {
      "cell_type": "code",
      "execution_count": null,
      "id": "6c3588bf-5d15-438c-a94a-bf6879ecc346",
      "metadata": {
        "id": "6c3588bf-5d15-438c-a94a-bf6879ecc346",
        "outputId": "1a3c3794-1533-4a9e-ae61-13fc335bdef7"
      },
      "outputs": [
        {
          "data": {
            "text/plain": [
              "(2115082, 12)"
            ]
          },
          "execution_count": 85,
          "metadata": {},
          "output_type": "execute_result"
        }
      ],
      "source": [
        "cart = updated_df[updated_df['event_type'] == 'cart'] # filter df by event type (cart)\n",
        "cart.shape"
      ]
    },
    {
      "cell_type": "code",
      "execution_count": null,
      "id": "0074cf69-e6fe-41b4-8036-3c5102fa1ef7",
      "metadata": {
        "id": "0074cf69-e6fe-41b4-8036-3c5102fa1ef7",
        "outputId": "50b58fcb-2a66-43b4-f744-b604d4b75a10"
      },
      "outputs": [
        {
          "data": {
            "text/plain": [
              "(659256, 12)"
            ]
          },
          "execution_count": 86,
          "metadata": {},
          "output_type": "execute_result"
        }
      ],
      "source": [
        "purchases = updated_df[updated_df['event_type'] == 'purchase'] # filter df by event type (purchase)\n",
        "purchases.shape"
      ]
    },
    {
      "cell_type": "code",
      "execution_count": null,
      "id": "e5af58d8-17cc-4571-9439-a620e47b91f7",
      "metadata": {
        "id": "e5af58d8-17cc-4571-9439-a620e47b91f7",
        "outputId": "fefa879d-335e-4edf-ff75-1727073e3fde"
      },
      "outputs": [
        {
          "data": {
            "text/plain": [
              "1455826"
            ]
          },
          "execution_count": 88,
          "metadata": {},
          "output_type": "execute_result"
        }
      ],
      "source": [
        "no_purchase = cart.shape[0] - purchases.shape[0] # no. of users who didn't buy the item\n",
        "no_purchase"
      ]
    },
    {
      "cell_type": "code",
      "execution_count": null,
      "id": "4aea5e5d-e83f-49da-880e-2713f72ece75",
      "metadata": {
        "id": "4aea5e5d-e83f-49da-880e-2713f72ece75",
        "outputId": "d807afe6-2bbc-435d-a96f-8e33fe71e58a"
      },
      "outputs": [
        {
          "name": "stdout",
          "output_type": "stream",
          "text": [
            "Un total de 1455826 usuarios añadieron articulos al carrito pero no compraron, los cuales representan el 68.83%\n"
          ]
        }
      ],
      "source": [
        "print(\"Un total de {} usuarios añadieron articulos al carrito pero no compraron, los cuales representan el {:.2f}%\".format(no_purchase, (no_purchase / cart.shape[0]) * 100))"
      ]
    },
    {
      "cell_type": "markdown",
      "id": "d86295e1-9d7a-4e68-ba27-8ba24e566e5a",
      "metadata": {
        "id": "d86295e1-9d7a-4e68-ba27-8ba24e566e5a"
      },
      "source": [
        "#### Qué categorías presentan más abandono del carrito?"
      ]
    },
    {
      "cell_type": "code",
      "execution_count": null,
      "id": "57d39adb-d05a-42c5-9647-738ad20ef806",
      "metadata": {
        "id": "57d39adb-d05a-42c5-9647-738ad20ef806",
        "outputId": "cda08d2a-e223-4a89-9221-e0fd0a84e032"
      },
      "outputs": [
        {
          "data": {
            "text/plain": [
              "category_code\n",
              "accessories.bag         5310\n",
              "accessories.umbrella      73\n",
              "accessories.wallet      1112\n",
              "apparel.belt              68\n",
              "apparel.costume          695\n",
              "Name: cart_count, dtype: int64"
            ]
          },
          "execution_count": 106,
          "metadata": {},
          "output_type": "execute_result"
        }
      ],
      "source": [
        "cart = updated_df[updated_df['event_type'] == 'cart'] # filter df by event type (cart)\n",
        "cart = cart.groupby('category_code').size().rename('cart_count') # return the number of elements in each category\n",
        "cart.head()"
      ]
    },
    {
      "cell_type": "code",
      "execution_count": null,
      "id": "9b01a288-cedf-49ca-b007-afc308777775",
      "metadata": {
        "id": "9b01a288-cedf-49ca-b007-afc308777775",
        "outputId": "f524d4cc-7695-4e12-9072-8e23806ffb12"
      },
      "outputs": [
        {
          "data": {
            "text/plain": [
              "category_code\n",
              "accessories.bag         1494\n",
              "accessories.umbrella      26\n",
              "accessories.wallet       366\n",
              "apparel.belt              31\n",
              "apparel.costume          215\n",
              "Name: purchases_count, dtype: int64"
            ]
          },
          "execution_count": 107,
          "metadata": {},
          "output_type": "execute_result"
        }
      ],
      "source": [
        "purchases = updated_df[updated_df['event_type'] == 'purchase'] # filter df by event type (purchase)\n",
        "purchases = purchases.groupby('category_code').size().rename('purchases_count') # return the number of elements in each category\n",
        "purchases.head()"
      ]
    },
    {
      "cell_type": "code",
      "execution_count": null,
      "id": "92cb191d-f186-4378-896c-0fcd32682a31",
      "metadata": {
        "id": "92cb191d-f186-4378-896c-0fcd32682a31",
        "outputId": "0027b0e8-4a55-4859-b057-83e5a1830e3e"
      },
      "outputs": [
        {
          "data": {
            "text/plain": [
              "((129,), (126,))"
            ]
          },
          "execution_count": 108,
          "metadata": {},
          "output_type": "execute_result"
        }
      ],
      "source": [
        "views.shape, purchases.shape # no. of observations for both dfs"
      ]
    },
    {
      "cell_type": "code",
      "execution_count": null,
      "id": "f3cd4200-4731-455f-b147-c5ad95956198",
      "metadata": {
        "id": "f3cd4200-4731-455f-b147-c5ad95956198",
        "outputId": "9dd9f05b-add9-4b68-8b0f-418e070d3e43"
      },
      "outputs": [
        {
          "data": {
            "text/html": [
              "<div>\n",
              "<style scoped>\n",
              "    .dataframe tbody tr th:only-of-type {\n",
              "        vertical-align: middle;\n",
              "    }\n",
              "\n",
              "    .dataframe tbody tr th {\n",
              "        vertical-align: top;\n",
              "    }\n",
              "\n",
              "    .dataframe thead th {\n",
              "        text-align: right;\n",
              "    }\n",
              "</style>\n",
              "<table border=\"1\" class=\"dataframe\">\n",
              "  <thead>\n",
              "    <tr style=\"text-align: right;\">\n",
              "      <th></th>\n",
              "      <th>cart_count</th>\n",
              "      <th>purchases_count</th>\n",
              "    </tr>\n",
              "    <tr>\n",
              "      <th>category_code</th>\n",
              "      <th></th>\n",
              "      <th></th>\n",
              "    </tr>\n",
              "  </thead>\n",
              "  <tbody>\n",
              "    <tr>\n",
              "      <th>accessories.bag</th>\n",
              "      <td>5310</td>\n",
              "      <td>1494.0</td>\n",
              "    </tr>\n",
              "    <tr>\n",
              "      <th>accessories.umbrella</th>\n",
              "      <td>73</td>\n",
              "      <td>26.0</td>\n",
              "    </tr>\n",
              "    <tr>\n",
              "      <th>accessories.wallet</th>\n",
              "      <td>1112</td>\n",
              "      <td>366.0</td>\n",
              "    </tr>\n",
              "    <tr>\n",
              "      <th>apparel.belt</th>\n",
              "      <td>68</td>\n",
              "      <td>31.0</td>\n",
              "    </tr>\n",
              "    <tr>\n",
              "      <th>apparel.costume</th>\n",
              "      <td>695</td>\n",
              "      <td>215.0</td>\n",
              "    </tr>\n",
              "  </tbody>\n",
              "</table>\n",
              "</div>"
            ],
            "text/plain": [
              "                      cart_count  purchases_count\n",
              "category_code                                    \n",
              "accessories.bag             5310           1494.0\n",
              "accessories.umbrella          73             26.0\n",
              "accessories.wallet          1112            366.0\n",
              "apparel.belt                  68             31.0\n",
              "apparel.costume              695            215.0"
            ]
          },
          "execution_count": 109,
          "metadata": {},
          "output_type": "execute_result"
        }
      ],
      "source": [
        "cart_purchases = pd.concat([cart, purchases], axis = 1).fillna(0) # concatenate both dfs\n",
        "cart_purchases = cart_purchases.rename(columns = {0: 'cart_count', 1: 'purchases_count'}) # rename columns\n",
        "cart_purchases.head()"
      ]
    },
    {
      "cell_type": "code",
      "execution_count": null,
      "id": "a1eed30f-f510-4b15-a4a2-1cf0c7423cc6",
      "metadata": {
        "id": "a1eed30f-f510-4b15-a4a2-1cf0c7423cc6",
        "outputId": "798b4d50-05a2-4eff-a36c-5c3942b63935"
      },
      "outputs": [
        {
          "data": {
            "text/html": [
              "<div>\n",
              "<style scoped>\n",
              "    .dataframe tbody tr th:only-of-type {\n",
              "        vertical-align: middle;\n",
              "    }\n",
              "\n",
              "    .dataframe tbody tr th {\n",
              "        vertical-align: top;\n",
              "    }\n",
              "\n",
              "    .dataframe thead th {\n",
              "        text-align: right;\n",
              "    }\n",
              "</style>\n",
              "<table border=\"1\" class=\"dataframe\">\n",
              "  <thead>\n",
              "    <tr style=\"text-align: right;\">\n",
              "      <th></th>\n",
              "      <th>cart_count</th>\n",
              "      <th>purchases_count</th>\n",
              "      <th>no_purchase</th>\n",
              "    </tr>\n",
              "    <tr>\n",
              "      <th>category_code</th>\n",
              "      <th></th>\n",
              "      <th></th>\n",
              "      <th></th>\n",
              "    </tr>\n",
              "  </thead>\n",
              "  <tbody>\n",
              "    <tr>\n",
              "      <th>electronics.smartphone</th>\n",
              "      <td>1159323</td>\n",
              "      <td>382492.0</td>\n",
              "      <td>776831.0</td>\n",
              "    </tr>\n",
              "    <tr>\n",
              "      <th>electronics.audio.headphone</th>\n",
              "      <td>130819</td>\n",
              "      <td>40742.0</td>\n",
              "      <td>90077.0</td>\n",
              "    </tr>\n",
              "    <tr>\n",
              "      <th>electronics.video.tv</th>\n",
              "      <td>105931</td>\n",
              "      <td>30178.0</td>\n",
              "      <td>75753.0</td>\n",
              "    </tr>\n",
              "    <tr>\n",
              "      <th>appliances.kitchen.washer</th>\n",
              "      <td>69911</td>\n",
              "      <td>19680.0</td>\n",
              "      <td>50231.0</td>\n",
              "    </tr>\n",
              "    <tr>\n",
              "      <th>appliances.environment.vacuum</th>\n",
              "      <td>64592</td>\n",
              "      <td>18122.0</td>\n",
              "      <td>46470.0</td>\n",
              "    </tr>\n",
              "    <tr>\n",
              "      <th>electronics.clocks</th>\n",
              "      <td>63678</td>\n",
              "      <td>21426.0</td>\n",
              "      <td>42252.0</td>\n",
              "    </tr>\n",
              "    <tr>\n",
              "      <th>computers.notebook</th>\n",
              "      <td>58831</td>\n",
              "      <td>18323.0</td>\n",
              "      <td>40508.0</td>\n",
              "    </tr>\n",
              "    <tr>\n",
              "      <th>appliances.kitchen.refrigerators</th>\n",
              "      <td>40708</td>\n",
              "      <td>10420.0</td>\n",
              "      <td>30288.0</td>\n",
              "    </tr>\n",
              "    <tr>\n",
              "      <th>apparel.shoes</th>\n",
              "      <td>34251</td>\n",
              "      <td>8768.0</td>\n",
              "      <td>25483.0</td>\n",
              "    </tr>\n",
              "    <tr>\n",
              "      <th>electronics.tablet</th>\n",
              "      <td>22242</td>\n",
              "      <td>6123.0</td>\n",
              "      <td>16119.0</td>\n",
              "    </tr>\n",
              "  </tbody>\n",
              "</table>\n",
              "</div>"
            ],
            "text/plain": [
              "                                  cart_count  purchases_count  no_purchase\n",
              "category_code                                                             \n",
              "electronics.smartphone               1159323         382492.0     776831.0\n",
              "electronics.audio.headphone           130819          40742.0      90077.0\n",
              "electronics.video.tv                  105931          30178.0      75753.0\n",
              "appliances.kitchen.washer              69911          19680.0      50231.0\n",
              "appliances.environment.vacuum          64592          18122.0      46470.0\n",
              "electronics.clocks                     63678          21426.0      42252.0\n",
              "computers.notebook                     58831          18323.0      40508.0\n",
              "appliances.kitchen.refrigerators       40708          10420.0      30288.0\n",
              "apparel.shoes                          34251           8768.0      25483.0\n",
              "electronics.tablet                     22242           6123.0      16119.0"
            ]
          },
          "execution_count": 111,
          "metadata": {},
          "output_type": "execute_result"
        }
      ],
      "source": [
        "cart_purchases['no_purchase'] = cart_purchases['cart_count'] - cart_purchases['purchases_count'] # no. of users who didn't buy the item by category\n",
        "cart_purchases = cart_purchases.sort_values('no_purchase', ascending = False) # order by no purchase column\n",
        "cart_purchases.head(10)"
      ]
    },
    {
      "cell_type": "code",
      "execution_count": null,
      "id": "32f5a0bc-40c9-49a4-a1b1-96bbbeb0da45",
      "metadata": {
        "id": "32f5a0bc-40c9-49a4-a1b1-96bbbeb0da45",
        "outputId": "64046dce-3077-400e-d478-464c0d7b035e"
      },
      "outputs": [
        {
          "data": {
            "image/png": "[encoded data removed]",
            "text/plain": [
              "<Figure size 800x400 with 1 Axes>"
            ]
          },
          "metadata": {},
          "output_type": "display_data"
        }
      ],
      "source": [
        "plt.figure(figsize = (8, 4))\n",
        "plt.bar(cart_purchases.head(10).index, cart_purchases.head(10)['no_purchase'], color = 'grey')\n",
        "plt.title('Top 10 Categorías con Mayor Abandono del Carrito')\n",
        "plt.xlabel('Categoría')\n",
        "plt.ylabel('No. de Abandonos del Carrito')\n",
        "plt.xticks(rotation=45, ha='right')\n",
        "plt.grid(False)\n",
        "plt.show()\n"
      ]
    },
    {
      "cell_type": "markdown",
      "id": "ba94c1ee-78ce-4618-a121-a1a7bd89e937",
      "metadata": {
        "id": "ba94c1ee-78ce-4618-a121-a1a7bd89e937"
      },
      "source": [
        "### Pensamiento Análitico y Recomendaciones"
      ]
    },
    {
      "cell_type": "markdown",
      "id": "8453f1f8-5f50-4d4c-964b-d349bcbbf9c6",
      "metadata": {
        "id": "8453f1f8-5f50-4d4c-964b-d349bcbbf9c6"
      },
      "source": [
        "#### Insights de Comportamiento\n",
        "\n",
        "- Un gran porcentaje de las compras se registra entre las 5:00 y las 15:00 horas, siendo las 9:00 la hora con un mayor registro de actividad.\n",
        "- La categoría `electronics.smartphone` representa la segunda categoría con una mayor tasa de conversión, sin embargo también representa la categoría con un mayor número de registros de abandono del carrito."
      ]
    },
    {
      "cell_type": "markdown",
      "id": "8951a537-4c70-4ab8-8cf6-acc5fcaff691",
      "metadata": {
        "id": "8951a537-4c70-4ab8-8cf6-acc5fcaff691"
      },
      "source": [
        "#### Recomendación de Marketing\n",
        "\n",
        "- Dado que `electronics.smartphone` es la categoría con mayor tasa de conversión y mayor abandono del carrito, es necesario implementar campañas de marketing para usuarios interesados en dicha categoría, ofreciendo descuentos adicionales o simplemente recordatorios cada cierto tiempo."
      ]
    },
    {
      "cell_type": "markdown",
      "id": "b69a30a6-c305-448a-91c3-293af1e4dfcd",
      "metadata": {
        "id": "b69a30a6-c305-448a-91c3-293af1e4dfcd"
      },
      "source": [
        "#### Segmentación de Usuarios\n",
        "\n",
        "- El horario de actividad podría ser útil para segmentar usuarios, se podrían identificar tendencias en los grupos y así personalizar las campañas de marketing para aumentar las compras y reducir la tasa de abandono del carrito."
      ]
    },
    {
      "cell_type": "markdown",
      "id": "8f997574-d6ea-45fd-9776-80fab29e1c24",
      "metadata": {
        "id": "8f997574-d6ea-45fd-9776-80fab29e1c24"
      },
      "source": [
        "***\n",
        "\n",
        "Diego Godinez Bravo\\\n",
        "Junio 2025"
      ]
    }
  ],
  "metadata": {
    "kernelspec": {
      "display_name": "Python 3 (ipykernel)",
      "language": "python",
      "name": "python3"
    },
    "language_info": {
      "codemirror_mode": {
        "name": "ipython",
        "version": 3
      },
      "file_extension": ".py",
      "mimetype": "text/x-python",
      "name": "python",
      "nbconvert_exporter": "python",
      "pygments_lexer": "ipython3",
      "version": "3.12.7"
    },
    "colab": {
      "provenance": []
    }
  },
  "nbformat": 4,
  "nbformat_minor": 5
}